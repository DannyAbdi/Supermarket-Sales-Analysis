{
 "cells": [
  {
   "cell_type": "markdown",
   "id": "8df5fa3c-614c-4049-b035-e8a36e163f1d",
   "metadata": {},
   "source": [
    "# Supermarket Sales Analysis"
   ]
  },
  {
   "cell_type": "markdown",
   "id": "e48348eb-43b7-4501-a932-4a94b0b83a05",
   "metadata": {},
   "source": [
    "### Setup and Cleaning"
   ]
  },
  {
   "cell_type": "code",
   "execution_count": 67,
   "id": "ca1fd3f0-1a14-4ecf-83ae-3081aa97804d",
   "metadata": {},
   "outputs": [],
   "source": [
    "# Import Libraries\n",
    "\n",
    "import pandas as pd\n",
    "import matplotlib.pyplot as plt"
   ]
  },
  {
   "cell_type": "code",
   "execution_count": 68,
   "id": "6a606d33-3b1d-4ee2-917e-0ba19b712358",
   "metadata": {},
   "outputs": [
    {
     "data": {
      "text/html": [
       "<div>\n",
       "<style scoped>\n",
       "    .dataframe tbody tr th:only-of-type {\n",
       "        vertical-align: middle;\n",
       "    }\n",
       "\n",
       "    .dataframe tbody tr th {\n",
       "        vertical-align: top;\n",
       "    }\n",
       "\n",
       "    .dataframe thead th {\n",
       "        text-align: right;\n",
       "    }\n",
       "</style>\n",
       "<table border=\"1\" class=\"dataframe\">\n",
       "  <thead>\n",
       "    <tr style=\"text-align: right;\">\n",
       "      <th></th>\n",
       "      <th>Invoice ID</th>\n",
       "      <th>Branch</th>\n",
       "      <th>City</th>\n",
       "      <th>Customer type</th>\n",
       "      <th>Gender</th>\n",
       "      <th>Product line</th>\n",
       "      <th>Unit price</th>\n",
       "      <th>Quantity</th>\n",
       "      <th>Tax 5%</th>\n",
       "      <th>Total</th>\n",
       "      <th>Date</th>\n",
       "      <th>Time</th>\n",
       "      <th>Payment</th>\n",
       "      <th>cogs</th>\n",
       "      <th>gross margin percentage</th>\n",
       "      <th>gross income</th>\n",
       "      <th>Rating</th>\n",
       "    </tr>\n",
       "  </thead>\n",
       "  <tbody>\n",
       "    <tr>\n",
       "      <th>0</th>\n",
       "      <td>750-67-8428</td>\n",
       "      <td>A</td>\n",
       "      <td>Yangon</td>\n",
       "      <td>Member</td>\n",
       "      <td>Female</td>\n",
       "      <td>Health and beauty</td>\n",
       "      <td>74.69</td>\n",
       "      <td>7</td>\n",
       "      <td>26.1415</td>\n",
       "      <td>548.9715</td>\n",
       "      <td>1/5/2019</td>\n",
       "      <td>13:08</td>\n",
       "      <td>Ewallet</td>\n",
       "      <td>522.83</td>\n",
       "      <td>4.761905</td>\n",
       "      <td>26.1415</td>\n",
       "      <td>9.1</td>\n",
       "    </tr>\n",
       "    <tr>\n",
       "      <th>1</th>\n",
       "      <td>226-31-3081</td>\n",
       "      <td>C</td>\n",
       "      <td>Naypyitaw</td>\n",
       "      <td>Normal</td>\n",
       "      <td>Female</td>\n",
       "      <td>Electronic accessories</td>\n",
       "      <td>15.28</td>\n",
       "      <td>5</td>\n",
       "      <td>3.8200</td>\n",
       "      <td>80.2200</td>\n",
       "      <td>3/8/2019</td>\n",
       "      <td>10:29</td>\n",
       "      <td>Cash</td>\n",
       "      <td>76.40</td>\n",
       "      <td>4.761905</td>\n",
       "      <td>3.8200</td>\n",
       "      <td>9.6</td>\n",
       "    </tr>\n",
       "    <tr>\n",
       "      <th>2</th>\n",
       "      <td>631-41-3108</td>\n",
       "      <td>A</td>\n",
       "      <td>Yangon</td>\n",
       "      <td>Normal</td>\n",
       "      <td>Male</td>\n",
       "      <td>Home and lifestyle</td>\n",
       "      <td>46.33</td>\n",
       "      <td>7</td>\n",
       "      <td>16.2155</td>\n",
       "      <td>340.5255</td>\n",
       "      <td>3/3/2019</td>\n",
       "      <td>13:23</td>\n",
       "      <td>Credit card</td>\n",
       "      <td>324.31</td>\n",
       "      <td>4.761905</td>\n",
       "      <td>16.2155</td>\n",
       "      <td>7.4</td>\n",
       "    </tr>\n",
       "    <tr>\n",
       "      <th>3</th>\n",
       "      <td>123-19-1176</td>\n",
       "      <td>A</td>\n",
       "      <td>Yangon</td>\n",
       "      <td>Member</td>\n",
       "      <td>Male</td>\n",
       "      <td>Health and beauty</td>\n",
       "      <td>58.22</td>\n",
       "      <td>8</td>\n",
       "      <td>23.2880</td>\n",
       "      <td>489.0480</td>\n",
       "      <td>1/27/2019</td>\n",
       "      <td>20:33</td>\n",
       "      <td>Ewallet</td>\n",
       "      <td>465.76</td>\n",
       "      <td>4.761905</td>\n",
       "      <td>23.2880</td>\n",
       "      <td>8.4</td>\n",
       "    </tr>\n",
       "    <tr>\n",
       "      <th>4</th>\n",
       "      <td>373-73-7910</td>\n",
       "      <td>A</td>\n",
       "      <td>Yangon</td>\n",
       "      <td>Normal</td>\n",
       "      <td>Male</td>\n",
       "      <td>Sports and travel</td>\n",
       "      <td>86.31</td>\n",
       "      <td>7</td>\n",
       "      <td>30.2085</td>\n",
       "      <td>634.3785</td>\n",
       "      <td>2/8/2019</td>\n",
       "      <td>10:37</td>\n",
       "      <td>Ewallet</td>\n",
       "      <td>604.17</td>\n",
       "      <td>4.761905</td>\n",
       "      <td>30.2085</td>\n",
       "      <td>5.3</td>\n",
       "    </tr>\n",
       "  </tbody>\n",
       "</table>\n",
       "</div>"
      ],
      "text/plain": [
       "    Invoice ID Branch       City Customer type  Gender  \\\n",
       "0  750-67-8428      A     Yangon        Member  Female   \n",
       "1  226-31-3081      C  Naypyitaw        Normal  Female   \n",
       "2  631-41-3108      A     Yangon        Normal    Male   \n",
       "3  123-19-1176      A     Yangon        Member    Male   \n",
       "4  373-73-7910      A     Yangon        Normal    Male   \n",
       "\n",
       "             Product line  Unit price  Quantity   Tax 5%     Total       Date  \\\n",
       "0       Health and beauty       74.69         7  26.1415  548.9715   1/5/2019   \n",
       "1  Electronic accessories       15.28         5   3.8200   80.2200   3/8/2019   \n",
       "2      Home and lifestyle       46.33         7  16.2155  340.5255   3/3/2019   \n",
       "3       Health and beauty       58.22         8  23.2880  489.0480  1/27/2019   \n",
       "4       Sports and travel       86.31         7  30.2085  634.3785   2/8/2019   \n",
       "\n",
       "    Time      Payment    cogs  gross margin percentage  gross income  Rating  \n",
       "0  13:08      Ewallet  522.83                 4.761905       26.1415     9.1  \n",
       "1  10:29         Cash   76.40                 4.761905        3.8200     9.6  \n",
       "2  13:23  Credit card  324.31                 4.761905       16.2155     7.4  \n",
       "3  20:33      Ewallet  465.76                 4.761905       23.2880     8.4  \n",
       "4  10:37      Ewallet  604.17                 4.761905       30.2085     5.3  "
      ]
     },
     "execution_count": 68,
     "metadata": {},
     "output_type": "execute_result"
    }
   ],
   "source": [
    "# Reading the data\n",
    "\n",
    "df = pd.read_csv(\"./supermarket_sales.csv\")\n",
    "\n",
    "df.head()"
   ]
  },
  {
   "cell_type": "code",
   "execution_count": 69,
   "id": "599e0860-d562-4c39-914c-7b9b7f46cf5f",
   "metadata": {},
   "outputs": [
    {
     "data": {
      "text/html": [
       "<div>\n",
       "<style scoped>\n",
       "    .dataframe tbody tr th:only-of-type {\n",
       "        vertical-align: middle;\n",
       "    }\n",
       "\n",
       "    .dataframe tbody tr th {\n",
       "        vertical-align: top;\n",
       "    }\n",
       "\n",
       "    .dataframe thead th {\n",
       "        text-align: right;\n",
       "    }\n",
       "</style>\n",
       "<table border=\"1\" class=\"dataframe\">\n",
       "  <thead>\n",
       "    <tr style=\"text-align: right;\">\n",
       "      <th></th>\n",
       "      <th>Invoice ID</th>\n",
       "      <th>Branch</th>\n",
       "      <th>Gender</th>\n",
       "      <th>Product line</th>\n",
       "      <th>Unit price</th>\n",
       "      <th>Quantity</th>\n",
       "      <th>Date</th>\n",
       "      <th>Time</th>\n",
       "      <th>Rating</th>\n",
       "    </tr>\n",
       "  </thead>\n",
       "  <tbody>\n",
       "    <tr>\n",
       "      <th>0</th>\n",
       "      <td>750-67-8428</td>\n",
       "      <td>A</td>\n",
       "      <td>Female</td>\n",
       "      <td>Health and beauty</td>\n",
       "      <td>74.69</td>\n",
       "      <td>7</td>\n",
       "      <td>1/5/2019</td>\n",
       "      <td>13:08</td>\n",
       "      <td>9.1</td>\n",
       "    </tr>\n",
       "    <tr>\n",
       "      <th>1</th>\n",
       "      <td>226-31-3081</td>\n",
       "      <td>C</td>\n",
       "      <td>Female</td>\n",
       "      <td>Electronic accessories</td>\n",
       "      <td>15.28</td>\n",
       "      <td>5</td>\n",
       "      <td>3/8/2019</td>\n",
       "      <td>10:29</td>\n",
       "      <td>9.6</td>\n",
       "    </tr>\n",
       "    <tr>\n",
       "      <th>2</th>\n",
       "      <td>631-41-3108</td>\n",
       "      <td>A</td>\n",
       "      <td>Male</td>\n",
       "      <td>Home and lifestyle</td>\n",
       "      <td>46.33</td>\n",
       "      <td>7</td>\n",
       "      <td>3/3/2019</td>\n",
       "      <td>13:23</td>\n",
       "      <td>7.4</td>\n",
       "    </tr>\n",
       "    <tr>\n",
       "      <th>3</th>\n",
       "      <td>123-19-1176</td>\n",
       "      <td>A</td>\n",
       "      <td>Male</td>\n",
       "      <td>Health and beauty</td>\n",
       "      <td>58.22</td>\n",
       "      <td>8</td>\n",
       "      <td>1/27/2019</td>\n",
       "      <td>20:33</td>\n",
       "      <td>8.4</td>\n",
       "    </tr>\n",
       "    <tr>\n",
       "      <th>4</th>\n",
       "      <td>373-73-7910</td>\n",
       "      <td>A</td>\n",
       "      <td>Male</td>\n",
       "      <td>Sports and travel</td>\n",
       "      <td>86.31</td>\n",
       "      <td>7</td>\n",
       "      <td>2/8/2019</td>\n",
       "      <td>10:37</td>\n",
       "      <td>5.3</td>\n",
       "    </tr>\n",
       "  </tbody>\n",
       "</table>\n",
       "</div>"
      ],
      "text/plain": [
       "    Invoice ID Branch  Gender            Product line  Unit price  Quantity  \\\n",
       "0  750-67-8428      A  Female       Health and beauty       74.69         7   \n",
       "1  226-31-3081      C  Female  Electronic accessories       15.28         5   \n",
       "2  631-41-3108      A    Male      Home and lifestyle       46.33         7   \n",
       "3  123-19-1176      A    Male       Health and beauty       58.22         8   \n",
       "4  373-73-7910      A    Male       Sports and travel       86.31         7   \n",
       "\n",
       "        Date   Time  Rating  \n",
       "0   1/5/2019  13:08     9.1  \n",
       "1   3/8/2019  10:29     9.6  \n",
       "2   3/3/2019  13:23     7.4  \n",
       "3  1/27/2019  20:33     8.4  \n",
       "4   2/8/2019  10:37     5.3  "
      ]
     },
     "execution_count": 69,
     "metadata": {},
     "output_type": "execute_result"
    }
   ],
   "source": [
    "# Remove unwanted collumns\n",
    "\n",
    "sales = df.drop(columns=['City', 'Customer type', 'Tax 5%', 'Total', 'Payment', 'gross margin percentage', 'gross income', 'cogs'])\n",
    "sales.head()"
   ]
  },
  {
   "cell_type": "markdown",
   "id": "db39a33d-b6ed-41a6-90ec-126928c32245",
   "metadata": {},
   "source": [
    "### What was the best month for sales?"
   ]
  },
  {
   "cell_type": "code",
   "execution_count": 70,
   "id": "be950737-fd20-40e4-b139-bd538f5566ce",
   "metadata": {},
   "outputs": [
    {
     "data": {
      "text/html": [
       "<div>\n",
       "<style scoped>\n",
       "    .dataframe tbody tr th:only-of-type {\n",
       "        vertical-align: middle;\n",
       "    }\n",
       "\n",
       "    .dataframe tbody tr th {\n",
       "        vertical-align: top;\n",
       "    }\n",
       "\n",
       "    .dataframe thead th {\n",
       "        text-align: right;\n",
       "    }\n",
       "</style>\n",
       "<table border=\"1\" class=\"dataframe\">\n",
       "  <thead>\n",
       "    <tr style=\"text-align: right;\">\n",
       "      <th></th>\n",
       "      <th>Invoice ID</th>\n",
       "      <th>Branch</th>\n",
       "      <th>Gender</th>\n",
       "      <th>Product line</th>\n",
       "      <th>Unit price</th>\n",
       "      <th>Quantity</th>\n",
       "      <th>Date</th>\n",
       "      <th>Time</th>\n",
       "      <th>Rating</th>\n",
       "      <th>Month</th>\n",
       "    </tr>\n",
       "  </thead>\n",
       "  <tbody>\n",
       "    <tr>\n",
       "      <th>0</th>\n",
       "      <td>750-67-8428</td>\n",
       "      <td>A</td>\n",
       "      <td>Female</td>\n",
       "      <td>Health and beauty</td>\n",
       "      <td>74.69</td>\n",
       "      <td>7</td>\n",
       "      <td>1/5/2019</td>\n",
       "      <td>13:08</td>\n",
       "      <td>9.1</td>\n",
       "      <td>1</td>\n",
       "    </tr>\n",
       "    <tr>\n",
       "      <th>1</th>\n",
       "      <td>226-31-3081</td>\n",
       "      <td>C</td>\n",
       "      <td>Female</td>\n",
       "      <td>Electronic accessories</td>\n",
       "      <td>15.28</td>\n",
       "      <td>5</td>\n",
       "      <td>3/8/2019</td>\n",
       "      <td>10:29</td>\n",
       "      <td>9.6</td>\n",
       "      <td>3</td>\n",
       "    </tr>\n",
       "    <tr>\n",
       "      <th>2</th>\n",
       "      <td>631-41-3108</td>\n",
       "      <td>A</td>\n",
       "      <td>Male</td>\n",
       "      <td>Home and lifestyle</td>\n",
       "      <td>46.33</td>\n",
       "      <td>7</td>\n",
       "      <td>3/3/2019</td>\n",
       "      <td>13:23</td>\n",
       "      <td>7.4</td>\n",
       "      <td>3</td>\n",
       "    </tr>\n",
       "    <tr>\n",
       "      <th>3</th>\n",
       "      <td>123-19-1176</td>\n",
       "      <td>A</td>\n",
       "      <td>Male</td>\n",
       "      <td>Health and beauty</td>\n",
       "      <td>58.22</td>\n",
       "      <td>8</td>\n",
       "      <td>1/27/2019</td>\n",
       "      <td>20:33</td>\n",
       "      <td>8.4</td>\n",
       "      <td>1</td>\n",
       "    </tr>\n",
       "    <tr>\n",
       "      <th>4</th>\n",
       "      <td>373-73-7910</td>\n",
       "      <td>A</td>\n",
       "      <td>Male</td>\n",
       "      <td>Sports and travel</td>\n",
       "      <td>86.31</td>\n",
       "      <td>7</td>\n",
       "      <td>2/8/2019</td>\n",
       "      <td>10:37</td>\n",
       "      <td>5.3</td>\n",
       "      <td>2</td>\n",
       "    </tr>\n",
       "  </tbody>\n",
       "</table>\n",
       "</div>"
      ],
      "text/plain": [
       "    Invoice ID Branch  Gender            Product line  Unit price  Quantity  \\\n",
       "0  750-67-8428      A  Female       Health and beauty       74.69         7   \n",
       "1  226-31-3081      C  Female  Electronic accessories       15.28         5   \n",
       "2  631-41-3108      A    Male      Home and lifestyle       46.33         7   \n",
       "3  123-19-1176      A    Male       Health and beauty       58.22         8   \n",
       "4  373-73-7910      A    Male       Sports and travel       86.31         7   \n",
       "\n",
       "        Date   Time  Rating  Month  \n",
       "0   1/5/2019  13:08     9.1      1  \n",
       "1   3/8/2019  10:29     9.6      3  \n",
       "2   3/3/2019  13:23     7.4      3  \n",
       "3  1/27/2019  20:33     8.4      1  \n",
       "4   2/8/2019  10:37     5.3      2  "
      ]
     },
     "execution_count": 70,
     "metadata": {},
     "output_type": "execute_result"
    }
   ],
   "source": [
    "# Add month collumn\n",
    "\n",
    "sales['Month'] = sales['Date'].str[0]\n",
    "sales['Month'] = sales['Month'].astype('int32')\n",
    "sales.head()"
   ]
  },
  {
   "cell_type": "code",
   "execution_count": 71,
   "id": "40bc2b4d-996a-41ab-a631-70c97b0f6b8c",
   "metadata": {},
   "outputs": [
    {
     "data": {
      "text/html": [
       "<div>\n",
       "<style scoped>\n",
       "    .dataframe tbody tr th:only-of-type {\n",
       "        vertical-align: middle;\n",
       "    }\n",
       "\n",
       "    .dataframe tbody tr th {\n",
       "        vertical-align: top;\n",
       "    }\n",
       "\n",
       "    .dataframe thead th {\n",
       "        text-align: right;\n",
       "    }\n",
       "</style>\n",
       "<table border=\"1\" class=\"dataframe\">\n",
       "  <thead>\n",
       "    <tr style=\"text-align: right;\">\n",
       "      <th></th>\n",
       "      <th>Invoice ID</th>\n",
       "      <th>Branch</th>\n",
       "      <th>Gender</th>\n",
       "      <th>Product line</th>\n",
       "      <th>Unit price</th>\n",
       "      <th>Quantity</th>\n",
       "      <th>Date</th>\n",
       "      <th>Time</th>\n",
       "      <th>Rating</th>\n",
       "      <th>Month</th>\n",
       "      <th>Total</th>\n",
       "    </tr>\n",
       "  </thead>\n",
       "  <tbody>\n",
       "    <tr>\n",
       "      <th>0</th>\n",
       "      <td>750-67-8428</td>\n",
       "      <td>A</td>\n",
       "      <td>Female</td>\n",
       "      <td>Health and beauty</td>\n",
       "      <td>74.69</td>\n",
       "      <td>7</td>\n",
       "      <td>1/5/2019</td>\n",
       "      <td>13:08</td>\n",
       "      <td>9.1</td>\n",
       "      <td>1</td>\n",
       "      <td>522.83</td>\n",
       "    </tr>\n",
       "    <tr>\n",
       "      <th>1</th>\n",
       "      <td>226-31-3081</td>\n",
       "      <td>C</td>\n",
       "      <td>Female</td>\n",
       "      <td>Electronic accessories</td>\n",
       "      <td>15.28</td>\n",
       "      <td>5</td>\n",
       "      <td>3/8/2019</td>\n",
       "      <td>10:29</td>\n",
       "      <td>9.6</td>\n",
       "      <td>3</td>\n",
       "      <td>76.40</td>\n",
       "    </tr>\n",
       "    <tr>\n",
       "      <th>2</th>\n",
       "      <td>631-41-3108</td>\n",
       "      <td>A</td>\n",
       "      <td>Male</td>\n",
       "      <td>Home and lifestyle</td>\n",
       "      <td>46.33</td>\n",
       "      <td>7</td>\n",
       "      <td>3/3/2019</td>\n",
       "      <td>13:23</td>\n",
       "      <td>7.4</td>\n",
       "      <td>3</td>\n",
       "      <td>324.31</td>\n",
       "    </tr>\n",
       "    <tr>\n",
       "      <th>3</th>\n",
       "      <td>123-19-1176</td>\n",
       "      <td>A</td>\n",
       "      <td>Male</td>\n",
       "      <td>Health and beauty</td>\n",
       "      <td>58.22</td>\n",
       "      <td>8</td>\n",
       "      <td>1/27/2019</td>\n",
       "      <td>20:33</td>\n",
       "      <td>8.4</td>\n",
       "      <td>1</td>\n",
       "      <td>465.76</td>\n",
       "    </tr>\n",
       "    <tr>\n",
       "      <th>4</th>\n",
       "      <td>373-73-7910</td>\n",
       "      <td>A</td>\n",
       "      <td>Male</td>\n",
       "      <td>Sports and travel</td>\n",
       "      <td>86.31</td>\n",
       "      <td>7</td>\n",
       "      <td>2/8/2019</td>\n",
       "      <td>10:37</td>\n",
       "      <td>5.3</td>\n",
       "      <td>2</td>\n",
       "      <td>604.17</td>\n",
       "    </tr>\n",
       "  </tbody>\n",
       "</table>\n",
       "</div>"
      ],
      "text/plain": [
       "    Invoice ID Branch  Gender            Product line  Unit price  Quantity  \\\n",
       "0  750-67-8428      A  Female       Health and beauty       74.69         7   \n",
       "1  226-31-3081      C  Female  Electronic accessories       15.28         5   \n",
       "2  631-41-3108      A    Male      Home and lifestyle       46.33         7   \n",
       "3  123-19-1176      A    Male       Health and beauty       58.22         8   \n",
       "4  373-73-7910      A    Male       Sports and travel       86.31         7   \n",
       "\n",
       "        Date   Time  Rating  Month   Total  \n",
       "0   1/5/2019  13:08     9.1      1  522.83  \n",
       "1   3/8/2019  10:29     9.6      3   76.40  \n",
       "2   3/3/2019  13:23     7.4      3  324.31  \n",
       "3  1/27/2019  20:33     8.4      1  465.76  \n",
       "4   2/8/2019  10:37     5.3      2  604.17  "
      ]
     },
     "execution_count": 71,
     "metadata": {},
     "output_type": "execute_result"
    }
   ],
   "source": [
    "# Add total sales collumn\n",
    "\n",
    "sales['Total'] = sales['Unit price'] * sales['Quantity']\n",
    "sales.head()"
   ]
  },
  {
   "cell_type": "code",
   "execution_count": 72,
   "id": "a4ee8f8f-53c7-4e14-8e7f-c5f1536cdcd3",
   "metadata": {},
   "outputs": [
    {
     "name": "stdout",
     "output_type": "stream",
     "text": [
      "Month\n",
      "1    110754.16\n",
      "2     92589.88\n",
      "3    104243.34\n",
      "Name: Total, dtype: float64\n"
     ]
    }
   ],
   "source": [
    "# group sales by month\n",
    "\n",
    "results = sales.groupby('Month').sum()\n",
    "print(results['Total'])"
   ]
  },
  {
   "cell_type": "code",
   "execution_count": 73,
   "id": "45c0baea-623a-4181-bc93-3653c2c31179",
   "metadata": {
    "scrolled": true
   },
   "outputs": [
    {
     "data": {
      "image/png": "[encoded data removed]",
      "text/plain": [
       "<Figure size 640x480 with 1 Axes>"
      ]
     },
     "metadata": {},
     "output_type": "display_data"
    }
   ],
   "source": [
    "# plot data\n",
    "\n",
    "months = range(1,4)\n",
    "month_names = ['Jan', 'Feb', 'Mar']\n",
    "\n",
    "plt.bar(months, results['Total'])\n",
    "plt.xticks(months, month_names)\n",
    "plt.xlabel('Month')\n",
    "plt.ylabel('Sales in USD')\n",
    "plt.show()"
   ]
  },
  {
   "cell_type": "markdown",
   "id": "cda711c2-f637-4253-b90b-c99da6d8612c",
   "metadata": {},
   "source": [
    "January had the most sales while February had the least sales. This could be due to January having 3 more days in its month and so there would be fewer shopping days in February. Also, January might see higher sales due to post-holiday shopping or new year promotions. March sales might increase as spring approaches, potentially due to seasonal promotions."
   ]
  },
  {
   "cell_type": "markdown",
   "id": "ddde3f16-ca52-4cab-9690-60b367c44439",
   "metadata": {},
   "source": [
    "### What are the total sales by branch?"
   ]
  },
  {
   "cell_type": "code",
   "execution_count": 74,
   "id": "02b87a60-265d-4f00-b40f-7105a532d097",
   "metadata": {},
   "outputs": [
    {
     "name": "stdout",
     "output_type": "stream",
     "text": [
      "Branch\n",
      "A    101143.21\n",
      "B    101140.64\n",
      "C    105303.53\n",
      "Name: Total, dtype: float64\n"
     ]
    }
   ],
   "source": [
    "# group sales by Branch\n",
    "\n",
    "results = sales.groupby('Branch').sum()\n",
    "print(results['Total'])"
   ]
  },
  {
   "cell_type": "code",
   "execution_count": 75,
   "id": "d3fcdd08-9da1-402e-ac52-94f85854fc3b",
   "metadata": {},
   "outputs": [
    {
     "data": {
      "image/png": "[encoded data removed]",
      "text/plain": [
       "<Figure size 640x480 with 1 Axes>"
      ]
     },
     "metadata": {},
     "output_type": "display_data"
    }
   ],
   "source": [
    "# plot data\n",
    "\n",
    "branch = range(1,4)\n",
    "branch_names = ['A', 'B', 'C']\n",
    "\n",
    "plt.bar(branch, results['Total'])\n",
    "plt.xticks(branch, branch_names)\n",
    "plt.xlabel('Branch')\n",
    "plt.ylabel('Sales in USD')\n",
    "plt.show()"
   ]
  },
  {
   "cell_type": "markdown",
   "id": "745423d0-19ee-4919-9e04-23f5ec0e5fd5",
   "metadata": {},
   "source": [
    "Branch C outperformed A and B by a notable margin ($4,160.89 more than A and $4,162.89 more than B).\n",
    "Potential Factors for Success: \n",
    "\n",
    "- It may be situated in a more favorable area with higher foot traffic.\n",
    "- Effective Marketing: Perhaps Branch C has implemented successful promotional strategies or advertising that attract more customers.\n",
    "- Product Range: Branch C might have a more appealing product assortment or better stock levels compared to A and B.\n",
    "- Customer Service: Excellent customer service in Branch C could lead to increased customer satisfaction and repeat business."
   ]
  },
  {
   "cell_type": "markdown",
   "id": "a118c8c9-0c37-467d-a306-f17c5ea01748",
   "metadata": {},
   "source": [
    "### Which product line generates the most revenue?"
   ]
  },
  {
   "cell_type": "markdown",
   "id": "94c85475-0b99-4e5b-9ca4-7bbc4c243612",
   "metadata": {},
   "source": [
    "### What are the highest-selling products based on quantity sold vs. revenue generated?"
   ]
  },
  {
   "cell_type": "markdown",
   "id": "8f4ef62f-dee1-48e6-a225-a5e1cc84c44e",
   "metadata": {},
   "source": [
    "### How do sales vary by customer gender across different product lines?"
   ]
  },
  {
   "cell_type": "markdown",
   "id": "2e1637e9-3401-4be5-8a87-4bd72076830c",
   "metadata": {},
   "source": [
    "### Are there specific times of day with higher sales?"
   ]
  },
  {
   "cell_type": "markdown",
   "id": "601db455-7216-4d37-879b-e9493d9508ea",
   "metadata": {},
   "source": [
    "### What is the average rating by branch, city, and product line?"
   ]
  },
  {
   "cell_type": "markdown",
   "id": "ba673e79-77f5-4343-aa03-ed8772960af5",
   "metadata": {},
   "source": [
    "### Are there correlations between rating and quantity sold, product line, or branch?"
   ]
  },
  {
   "cell_type": "markdown",
   "id": "aca2415c-b59e-4e75-8cc1-f7b6c9b623d7",
   "metadata": {},
   "source": [
    "### What is the rating trend over time? Are ratings improving, declining, or stable?"
   ]
  }
 ],
 "metadata": {
  "kernelspec": {
   "display_name": "Python 3 (ipykernel)",
   "language": "python",
   "name": "python3"
  },
  "language_info": {
   "codemirror_mode": {
    "name": "ipython",
    "version": 3
   },
   "file_extension": ".py",
   "mimetype": "text/x-python",
   "name": "python",
   "nbconvert_exporter": "python",
   "pygments_lexer": "ipython3",
   "version": "3.10.4"
  }
 },
 "nbformat": 4,
 "nbformat_minor": 5
}
